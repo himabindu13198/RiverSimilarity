{
 "cells": [
  {
   "cell_type": "code",
   "execution_count": 1,
   "metadata": {},
   "outputs": [],
   "source": [
    "import numpy as np\n",
    "import pandas as pd\n",
    "import pystan as ps\n",
    "import statsmodels.formula.api as smf\n",
    "import matplotlib.pyplot as plt"
   ]
  },
  {
   "cell_type": "code",
   "execution_count": 2,
   "metadata": {},
   "outputs": [
    {
     "name": "stderr",
     "output_type": "stream",
     "text": [
      "ERROR:fiona._env:Unable to open EPSG support file gcs.csv.  Try setting the GDAL_DATA environment variable to point to the directory containing EPSG csv files.\n"
     ]
    }
   ],
   "source": [
    "#fetching data into table\n",
    "import geopandas as gpd\n",
    "\n",
    "My_file_path_name = r'C:\\Users\\himab\\Documents\\RiverSimilarity\\data\\HydroRIVERS_v10_na_shp\\HydroRIVERS_v10_na_shp\\HydroRIVERS_v10_na.dbf'\n",
    "\n",
    "table = gpd.read_file(My_file_path_name)"
   ]
  },
  {
   "cell_type": "code",
   "execution_count": 3,
   "metadata": {},
   "outputs": [
    {
     "data": {
      "text/html": [
       "<div>\n",
       "<style scoped>\n",
       "    .dataframe tbody tr th:only-of-type {\n",
       "        vertical-align: middle;\n",
       "    }\n",
       "\n",
       "    .dataframe tbody tr th {\n",
       "        vertical-align: top;\n",
       "    }\n",
       "\n",
       "    .dataframe thead th {\n",
       "        text-align: right;\n",
       "    }\n",
       "</style>\n",
       "<table border=\"1\" class=\"dataframe\">\n",
       "  <thead>\n",
       "    <tr style=\"text-align: right;\">\n",
       "      <th></th>\n",
       "      <th>l</th>\n",
       "      <th>A</th>\n",
       "      <th>Q</th>\n",
       "      <th>n</th>\n",
       "    </tr>\n",
       "  </thead>\n",
       "  <tbody>\n",
       "    <tr>\n",
       "      <td>0</td>\n",
       "      <td>1.72</td>\n",
       "      <td>13.9</td>\n",
       "      <td>0.121</td>\n",
       "      <td>1</td>\n",
       "    </tr>\n",
       "    <tr>\n",
       "      <td>1</td>\n",
       "      <td>3.38</td>\n",
       "      <td>24.7</td>\n",
       "      <td>0.196</td>\n",
       "      <td>1</td>\n",
       "    </tr>\n",
       "    <tr>\n",
       "      <td>2</td>\n",
       "      <td>1.94</td>\n",
       "      <td>13.7</td>\n",
       "      <td>0.160</td>\n",
       "      <td>1</td>\n",
       "    </tr>\n",
       "    <tr>\n",
       "      <td>3</td>\n",
       "      <td>1.12</td>\n",
       "      <td>10.3</td>\n",
       "      <td>0.116</td>\n",
       "      <td>1</td>\n",
       "    </tr>\n",
       "    <tr>\n",
       "      <td>4</td>\n",
       "      <td>5.95</td>\n",
       "      <td>20.7</td>\n",
       "      <td>0.242</td>\n",
       "      <td>1</td>\n",
       "    </tr>\n",
       "  </tbody>\n",
       "</table>\n",
       "</div>"
      ],
      "text/plain": [
       "      l     A      Q  n\n",
       "0  1.72  13.9  0.121  1\n",
       "1  3.38  24.7  0.196  1\n",
       "2  1.94  13.7  0.160  1\n",
       "3  1.12  10.3  0.116  1\n",
       "4  5.95  20.7  0.242  1"
      ]
     },
     "execution_count": 3,
     "metadata": {},
     "output_type": "execute_result"
    }
   ],
   "source": [
    "table.rename(columns = {'LENGTH_KM':'l', 'UPLAND_SKM':'A', 'DIS_AV_CMS':'Q', 'ORD_STRA':'n'}, inplace = True)\n",
    "table = table[['l','A','Q','n']]\n",
    "table.head()"
   ]
  },
  {
   "cell_type": "code",
   "execution_count": 4,
   "metadata": {},
   "outputs": [
    {
     "data": {
      "image/png": "[encoded data removed]",
      "text/plain": [
       "<Figure size 432x288 with 1 Axes>"
      ]
     },
     "metadata": {
      "needs_background": "light"
     },
     "output_type": "display_data"
    },
    {
     "data": {
      "text/html": [
       "<div>\n",
       "<style scoped>\n",
       "    .dataframe tbody tr th:only-of-type {\n",
       "        vertical-align: middle;\n",
       "    }\n",
       "\n",
       "    .dataframe tbody tr th {\n",
       "        vertical-align: top;\n",
       "    }\n",
       "\n",
       "    .dataframe thead th {\n",
       "        text-align: right;\n",
       "    }\n",
       "</style>\n",
       "<table border=\"1\" class=\"dataframe\">\n",
       "  <thead>\n",
       "    <tr style=\"text-align: right;\">\n",
       "      <th></th>\n",
       "      <th>l</th>\n",
       "      <th>A</th>\n",
       "      <th>Q</th>\n",
       "      <th>n</th>\n",
       "      <th>logQ</th>\n",
       "      <th>logA</th>\n",
       "    </tr>\n",
       "  </thead>\n",
       "  <tbody>\n",
       "    <tr>\n",
       "      <td>0</td>\n",
       "      <td>1.72</td>\n",
       "      <td>13.9</td>\n",
       "      <td>0.121</td>\n",
       "      <td>1</td>\n",
       "      <td>-2.111965</td>\n",
       "      <td>2.631889</td>\n",
       "    </tr>\n",
       "    <tr>\n",
       "      <td>1</td>\n",
       "      <td>3.38</td>\n",
       "      <td>24.7</td>\n",
       "      <td>0.196</td>\n",
       "      <td>1</td>\n",
       "      <td>-1.629641</td>\n",
       "      <td>3.206803</td>\n",
       "    </tr>\n",
       "    <tr>\n",
       "      <td>2</td>\n",
       "      <td>1.94</td>\n",
       "      <td>13.7</td>\n",
       "      <td>0.160</td>\n",
       "      <td>1</td>\n",
       "      <td>-1.832581</td>\n",
       "      <td>2.617396</td>\n",
       "    </tr>\n",
       "    <tr>\n",
       "      <td>3</td>\n",
       "      <td>1.12</td>\n",
       "      <td>10.3</td>\n",
       "      <td>0.116</td>\n",
       "      <td>1</td>\n",
       "      <td>-2.154165</td>\n",
       "      <td>2.332144</td>\n",
       "    </tr>\n",
       "    <tr>\n",
       "      <td>4</td>\n",
       "      <td>5.95</td>\n",
       "      <td>20.7</td>\n",
       "      <td>0.242</td>\n",
       "      <td>1</td>\n",
       "      <td>-1.418818</td>\n",
       "      <td>3.030134</td>\n",
       "    </tr>\n",
       "  </tbody>\n",
       "</table>\n",
       "</div>"
      ],
      "text/plain": [
       "      l     A      Q  n      logQ      logA\n",
       "0  1.72  13.9  0.121  1 -2.111965  2.631889\n",
       "1  3.38  24.7  0.196  1 -1.629641  3.206803\n",
       "2  1.94  13.7  0.160  1 -1.832581  2.617396\n",
       "3  1.12  10.3  0.116  1 -2.154165  2.332144\n",
       "4  5.95  20.7  0.242  1 -1.418818  3.030134"
      ]
     },
     "execution_count": 4,
     "metadata": {},
     "output_type": "execute_result"
    }
   ],
   "source": [
    "# define the dataset\n",
    "df = pd.DataFrame(table)\n",
    "df = df.head(1000) #subsetting data to first 1000 data points\n",
    "df['logQ'] = np.log(df['Q'])\n",
    "df['logA']=np.log(df['A'])\n",
    "# plot the dataset\n",
    "df.plot(x=\"logA\", y=\"logQ\", kind=\"scatter\", color=\"r\", title=\"Dataset to analyse\")\n",
    "plt.show()\n",
    "df.head()"
   ]
  },
  {
   "cell_type": "code",
   "execution_count": 5,
   "metadata": {},
   "outputs": [
    {
     "name": "stderr",
     "output_type": "stream",
     "text": [
      "INFO:pystan:COMPILING THE C++ CODE FOR MODEL anon_model_cfb426b130992ed055ed8f689117c885 NOW.\n"
     ]
    },
    {
     "name": "stdout",
     "output_type": "stream",
     "text": [
      "            a_zero        a_one        sigma         lp__\n",
      "count  4000.000000  4000.000000  4000.000000  4000.000000\n",
      "mean     -4.524666     0.998159     0.058159  2341.930474\n",
      "std       0.005394     0.001240     0.001315     1.263496\n",
      "min      -4.543157     0.993951     0.054053  2330.169123\n",
      "25%      -4.528261     0.997311     0.057264  2341.365672\n",
      "50%      -4.524678     0.998153     0.058148  2342.268867\n",
      "75%      -4.521087     0.998994     0.058971  2342.844908\n",
      "max      -4.505884     1.002303     0.063682  2343.456733\n"
     ]
    }
   ],
   "source": [
    "# Linear Regression with Stan\n",
    "stan_model = ps.StanModel(file=\"LRmodel.txt\")\n",
    "\n",
    "data_dict = {\"logQ\": df[\"logQ\"], \"logA\": df[\"logA\"], \"N\": len(df)}\n",
    "\n",
    "stan_fit = stan_model.sampling(data=data_dict)\n",
    "\n",
    "# # extract the samples\n",
    "stan_results = pd.DataFrame(stan_fit.extract())\n",
    "print(stan_results.describe())"
   ]
  },
  {
   "cell_type": "code",
   "execution_count": 6,
   "metadata": {},
   "outputs": [
    {
     "data": {
      "image/png": "[encoded data removed]",
      "text/plain": [
       "<Figure size 432x288 with 1 Axes>"
      ]
     },
     "metadata": {
      "needs_background": "light"
     },
     "output_type": "display_data"
    }
   ],
   "source": [
    "# here is one way to visualise the stan result, including uncertainty\n",
    "# this does not include any filtering to eg 95%, it simply shows all inferences\n",
    "for row in range(0, len(stan_results)):\n",
    "    fit_line = np.poly1d([stan_results[\"a_one\"][row], stan_results[\"a_zero\"][row]])\n",
    "    x = np.arange(6)\n",
    "    y = fit_line(x)\n",
    "    plt.plot(x, y, \"b-\", alpha=0.025, zorder=1)\n",
    "plt.scatter(df[\"logA\"], df[\"logQ\"], c=\"r\", zorder=2)\n",
    "plt.title(\"All Stan Fits Together\")\n",
    "plt.ylim([-5, 10])\n",
    "plt.ylabel(\"logQ\")\n",
    "plt.xlim([-5, 10])\n",
    "plt.xlabel(\"logA\")\n",
    "plt.show()"
   ]
  }
 ],
 "metadata": {
  "kernelspec": {
   "display_name": "Python 3",
   "language": "python",
   "name": "python3"
  },
  "language_info": {
   "codemirror_mode": {
    "name": "ipython",
    "version": 3
   },
   "file_extension": ".py",
   "mimetype": "text/x-python",
   "name": "python",
   "nbconvert_exporter": "python",
   "pygments_lexer": "ipython3",
   "version": "3.7.4"
  }
 },
 "nbformat": 4,
 "nbformat_minor": 2
}
